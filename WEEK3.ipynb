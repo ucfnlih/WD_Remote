{
  "cells": [
    {
      "cell_type": "markdown",
      "metadata": {},
      "source": [
        "# Correction\n",
        "\n",
        "#### Geometric Correction\n",
        "\n",
        "[Geometric correction](http://www.flexiblepicturesystems.com/technology.html) in remote sensing is the digital process of matching the image projection to a specific projection surface. When remote sensing data is collected, the image will be distorted due to view angle, topography, wind, etc. To deal with the distortion, ground control points (GCP) plays a huge role. [Ground control points](https://medium.com/aerial-acuity/what-are-ground-control-points-gcps-and-how-do-i-use-them-4f4c3771fd0b) are large marked targets on the ground, it can help remote sensing instruments to determine the exact geographical location of the image and then determin the geometric transformation coefficients. The linear algorithm is then used t\n",
        "o calculate the positions in the rectified (gold standard) map. Finally, using RMSE to test the error and choose the best model.\n",
        "\n",
        "\n",
        "```{mermaid}\n",
        "%%| fig-width: 8\n",
        "flowchart LR\n",
        "A(Identifying Ground <br/> Control Points) --> B(Getting geometric <br/>transformation <br/> coefficients)\n",
        "    B --> C{Linear<br/> algorithm}\n",
        "    C -->|Forward| D[Using RMSE to <br/> test the error]\n",
        "    C -->|Backward| D[Using RMSE to <br/> test the error]\n",
        "\n",
        "```\n",
        "\n",
        "\n",
        "#### Orthorectification correction / Topographic correction\n",
        "\n",
        "When image distortion occurs by sensor orientation, topographical variation and the curvature of the earth, the [Orthorectification](https://www.intermap.com/blog/orthorectification-in-a-nutshell) process should be used to correct, which is always called topographic correction. [To orthorectify an image](https://apollomapping.com/blog/g-faq-orthorectification-part/), an elevation model and a rational polynomial coefficients (RPCs) are minimally required, which provide the information of the topography of the ground and the relationship between image and the ground. The accurate elevation model [calculates the effect of terrain variation on the image pixels](https://www.intermap.com/blog/orthorectification-in-a-nutshell) and determine the position, which corrects the distortion. \n",
        "\n",
        "<center>\n",
        "\n",
        "::: {layout-ncol=2}\n",
        "\n",
        "![Distortion](distortion.png)\n",
        "\n",
        "\n",
        "![Elevation Model](elevation.png)\n",
        "   \n",
        ":::\n",
        "\n",
        "</center>\n",
        "\n",
        "Source:[Intermap](https://www.intermap.com/blog/orthorectification-in-a-nutshell)\n",
        "\n",
        "#### Atmospheric Correction\n"
      ],
      "id": "c1ba6ab7"
    },
    {
      "cell_type": "code",
      "metadata": {},
      "source": [
        "mindmap\n",
        "   root((Atmospheric </br> Correction))\n",
        "    Relative Correction\n",
        "      Dark Object </br> Subtraction\n",
        "      Psuedo_invariant Features\n",
        "      Radiometric Control Sets\n",
        "    Absolute Correction\n",
        "      Atmospheric Radiative Transfer Models\n",
        "        LBLRTM\n",
        "        LNFL\n",
        "        RRTM\n",
        "      Tools\n",
        "        ACORN\n",
        "        FLAASH\n",
        "        QUAC\n",
        "        ATCOR\n",
        "    Empirical Line Correction\n",
        "    Haze Correction\n"
      ],
      "id": "26f9d90c",
      "execution_count": null,
      "outputs": []
    },
    {
      "cell_type": "markdown",
      "metadata": {},
      "source": [
        "#### Radiometric Calibration"
      ],
      "id": "478b63b6"
    }
  ],
  "metadata": {
    "kernelspec": {
      "name": "python3",
      "language": "python",
      "display_name": "Python 3 (ipykernel)"
    }
  },
  "nbformat": 4,
  "nbformat_minor": 5
}